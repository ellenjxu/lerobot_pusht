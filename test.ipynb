{
 "cells": [
  {
   "cell_type": "code",
   "execution_count": 16,
   "metadata": {},
   "outputs": [
    {
     "name": "stdout",
     "output_type": "stream",
     "text": [
      "416 288 416 128 0\n"
     ]
    }
   ],
   "source": [
    "# test: set sim position to coordinate transform calculated from image\n",
    "\n",
    "import matplotlib.pyplot as plt\n",
    "from diffusion_policy.env.pusht.pusht_env import PushTEnv\n",
    "\n",
    "env = PushTEnv(render_size=96)\n",
    "\n",
    "from helper import real2sim_transform\n",
    "import numpy as np\n",
    "\n",
    "x,y,x_t,y_t,theta_t = real2sim_transform(13, 7, 13, 12, 0)\n",
    "\n",
    "env.reset()\n",
    "\n",
    "print(x,y,x_t,y_t,theta_t)\n",
    "env.set_state(256, 256, 256, 256, np.pi)\n",
    "# env.set_state(x,y,x_t,y_t,theta_t)\n",
    "\n",
    "# show the image\n",
    "img = env.render(\"human\")\n",
    "# img = env.render(\"rgb_array\")  # Use rgb_array mode to get the image\n",
    "# plt.figure(figsize=(6, 6))\n",
    "# plt.imshow(img)\n",
    "# plt.axis('off')\n",
    "# plt.show()\n",
    "\n",
    "# env.close()"
   ]
  },
  {
   "cell_type": "code",
   "execution_count": 17,
   "metadata": {},
   "outputs": [],
   "source": [
    "env.close()"
   ]
  },
  {
   "cell_type": "code",
   "execution_count": null,
   "metadata": {},
   "outputs": [],
   "source": []
  }
 ],
 "metadata": {
  "kernelspec": {
   "display_name": "pusht",
   "language": "python",
   "name": "python3"
  },
  "language_info": {
   "codemirror_mode": {
    "name": "ipython",
    "version": 3
   },
   "file_extension": ".py",
   "mimetype": "text/x-python",
   "name": "python",
   "nbconvert_exporter": "python",
   "pygments_lexer": "ipython3",
   "version": "3.9.18"
  }
 },
 "nbformat": 4,
 "nbformat_minor": 2
}
